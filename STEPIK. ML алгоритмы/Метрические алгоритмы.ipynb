{
 "cells": [
  {
   "cell_type": "code",
   "execution_count": 1,
   "id": "50188407",
   "metadata": {},
   "outputs": [],
   "source": [
    "# https://stepik.org/course/68260/syllabus"
   ]
  },
  {
   "cell_type": "markdown",
   "id": "287d10df",
   "metadata": {},
   "source": [
    "## Содержание  \n",
    "[3.1 Метод ближайших соседей (классификация)](#3.1)  \n",
    "[3.1.1 Инициализация класса](#3.1.1)  \n",
    "[3.1.2 Обучение](#3.1.2)  \n",
    "[3.1.3 Предсказание](#3.1.3)  \n",
    "[3.1.4 Метрики](#3.1.4)  \n",
    "[3.1.5 Взвешенный kNN](#3.1.5)  \n",
    "  \n",
    "[3.2 Метод ближайших соседей (регрессия)](#3.2)   \n",
    "[3.2.1 Инициализация класса](#3.2.1)  \n",
    "[3.2.2 Обучение](#3.2.2)  \n",
    "[3.2.3 Предсказание](#3.2.3)  \n",
    "[3.2.4 Метрики](#3.2.4)  \n",
    "[3.2.5 Взвешенный kNN](#3.2.5)  \n",
    "\n",
    "[Финальные версии моделей](#3fin)"
   ]
  },
  {
   "cell_type": "markdown",
   "id": "f25d816f",
   "metadata": {},
   "source": [
    "## 3.1 Метод ближайших соседей (классификация)<a id='3.1'></a>\n"
   ]
  },
  {
   "cell_type": "code",
   "execution_count": 2,
   "id": "031cd657",
   "metadata": {},
   "outputs": [],
   "source": [
    "import pandas as pd\n",
    "import numpy as np"
   ]
  },
  {
   "cell_type": "code",
   "execution_count": 3,
   "id": "96f50fcb",
   "metadata": {},
   "outputs": [],
   "source": [
    "from sklearn.datasets import make_classification\n",
    "\n",
    "X, y = make_classification(n_samples=50, n_features=5, n_informative=2, random_state=42)\n",
    "X = pd.DataFrame(X)\n",
    "y = pd.Series(y)\n",
    "X.columns = [f'col_{col}' for col in X.columns]"
   ]
  },
  {
   "attachments": {
    "image.png": {
     "image/png": "[encoded data removed]"
    }
   },
   "cell_type": "markdown",
   "id": "e76f3eab",
   "metadata": {},
   "source": [
    "Метод ближайших соседей (k Nearest Neighbors, или kNN) — простой алгоритм классификации (регрессии), основанный на оценивании сходства объектов. Суть метода проста: объект относится к тому классу, к которому принадлежит большинство из его ближайших k соседей.  \n",
    "![image.png](attachment:image.png)   \n",
    "\n",
    "Одно из интересных свойств данного алгоритма: в процессе обучения по сути никакого обучения не происходит. Модель просто запоминает обучающий набор. Основная работа происходит в момент классификации тестового набора: вычисляются расстояния между всеми тестовыми точками и всеми точками из обучающего набора. А затем для каждой тестовой точки отбираются ближайшие соседи и происходит классификация.  \n",
    " \n",
    "Существует достаточно много метрик, с помощью которых вычисляются расстояния до ближайших точек:  \n",
    "\n",
    "* Евклидово расстояние (обычно используется по умолчанию);  \n",
    "* Метрика Хэмминга;  \n",
    "* Косинусное расстояние (косинусное сходство);  \n",
    "* Расстояние Минковского;  \n",
    "* И пр.  \n",
    "\n",
    "На практике, для ускорения работы часто пользуются приближенными методами поиска ближайших соседей.  \n",
    "\n",
    "Плюсы метода ближайших соседей:  \n",
    "\n",
    "* Простая реализация;  \n",
    "* Неплохая интерпретация: можно объяснить, почему тестовый пример был классифицирован именно так.  \n",
    "\n",
    "Минусы:  \n",
    "\n",
    "* Как правило метод работает медленно. Особенно на больших тренировочных наборах;  \n",
    "* Неэффективный по памяти, поскольку нужно хранить в модели всю обучающую выборку;  \n",
    "* Если в наборе данных много признаков, то трудно определить, какие признаки не важны для классификации (регрессии);  \n",
    "* В случае малого числа соседей метод чувствителен к выбросам, т.е. склонен переобучаться."
   ]
  },
  {
   "cell_type": "markdown",
   "id": "65645d96",
   "metadata": {},
   "source": [
    "### 3.1.1 Инициализация класса<a id='3.1.1'></a>"
   ]
  },
  {
   "cell_type": "markdown",
   "id": "9a7eeb7d",
   "metadata": {},
   "source": [
    "Создайте класс с именем MyKNNClf. Данный класс при инициализации должен принимать только один параметр:\n",
    "\n",
    "* k – кол-во ближайших соседей, которое будем рассматривать при определении класса. По-умолчанию: 3.  \n",
    "\n",
    "Все переданные (или дефолтные) параметры должны быть сохранены внутри экземпляра класса.  \n",
    "При обращении к экземпляру класса (или при передачи его в функцию print) необходимо распечатать строку по следующему шаблону:  \n",
    "```python\n",
    "MyKNNClf class: k=<k>\n",
    "```"
   ]
  },
  {
   "cell_type": "code",
   "execution_count": 4,
   "id": "575d5f43",
   "metadata": {},
   "outputs": [],
   "source": [
    "class MyKNNClf():\n",
    "    \n",
    "    def __init__(self,\n",
    "                 k: int = 3):\n",
    "    \n",
    "        self.k = k\n",
    "        \n",
    "    \n",
    "    def __repr__(self):\n",
    "        params = [f'{key}={value}' for key, value in self.__dict__.items()]\n",
    "        return 'MyKNNClf class: ' + ', '.join(params)\n",
    "        \n",
    "    def __str__(self):\n",
    "        return self.__repr__()"
   ]
  },
  {
   "cell_type": "code",
   "execution_count": 5,
   "id": "cd551ac5",
   "metadata": {},
   "outputs": [
    {
     "name": "stdout",
     "output_type": "stream",
     "text": [
      "MyKNNClf class: k=3\n"
     ]
    },
    {
     "data": {
      "text/plain": [
       "MyKNNClf class: k=3"
      ]
     },
     "execution_count": 5,
     "metadata": {},
     "output_type": "execute_result"
    }
   ],
   "source": [
    "knn = MyKNNClf()\n",
    "print(knn)\n",
    "knn"
   ]
  },
  {
   "cell_type": "markdown",
   "id": "67cc4459",
   "metadata": {},
   "source": [
    "### 3.1.2 Обучение<a id='3.1.2'></a>"
   ]
  },
  {
   "cell_type": "markdown",
   "id": "33924564",
   "metadata": {},
   "source": [
    "Доработайте класс MyKNNClf следующим образом:  \n",
    "\n",
    "1. В инициализатор класса добавьте переменную train_size (не параметр, а именно переменную). В ней будет храниться размер обучающей выборки.  \n",
    "2. Добавьте в класс метод fit. Данный метод должен делать следующее:  \n",
    "    1. На вход принимать две переменные:  \n",
    "        * X — все фичи в виде датафрейма пандаса.  \n",
    "        * y — целевая переменная в виде пандасовской серии.  \n",
    "    2. Сохранить X и y внутри модели.  \n",
    "    3. Записать в переменную train_size размер тренировочной выборки (X) в виде кортежа: (количество_строк, количество_столбцов)"
   ]
  },
  {
   "cell_type": "code",
   "execution_count": 6,
   "id": "0c6c1ff6",
   "metadata": {},
   "outputs": [],
   "source": [
    "class MyKNNClf():\n",
    "    \n",
    "    def __init__(self,\n",
    "                 k: int = 3):\n",
    "    \n",
    "        self.k = k\n",
    "        \n",
    "        self.train_size = None\n",
    "        self.X_train = None\n",
    "        self.y_train = None\n",
    "    \n",
    "    def __repr__(self):\n",
    "        params = [f'{key}={value}' for key, value in self.__dict__.items()]\n",
    "        return 'MyKNNClf class: ' + ', '.join(params)\n",
    "        \n",
    "    def __str__(self):\n",
    "        return self.__repr__()\n",
    "    \n",
    "    \n",
    "    def fit(self, X:pd.DataFrame, y:pd.Series) -> None:\n",
    "        self.X_train = X.copy()\n",
    "        self.y_train = y.copy()\n",
    "        self.train_size = tuple(X.shape)"
   ]
  },
  {
   "cell_type": "code",
   "execution_count": 7,
   "id": "27f88086",
   "metadata": {},
   "outputs": [],
   "source": [
    "knn = MyKNNClf(3)\n",
    "knn.fit(X, y)"
   ]
  },
  {
   "cell_type": "code",
   "execution_count": 8,
   "id": "a36b122a",
   "metadata": {},
   "outputs": [
    {
     "data": {
      "text/plain": [
       "(50, 5)"
      ]
     },
     "execution_count": 8,
     "metadata": {},
     "output_type": "execute_result"
    }
   ],
   "source": [
    "knn.train_size"
   ]
  },
  {
   "cell_type": "markdown",
   "id": "5b39d6a1",
   "metadata": {},
   "source": [
    "### 3.1.3 Предсказание<a id='3.1.3'></a>"
   ]
  },
  {
   "cell_type": "markdown",
   "id": "ff1ad093",
   "metadata": {},
   "source": [
    "Добавьте в класс MyKNNClf методы predict и predict_proba. Данные методы должны делать следующее:  \n",
    "\n",
    "**predict**  \n",
    "\n",
    "1. На вход принимать матрицу фичей в виде датафрейма пандаса.  \n",
    "2. Для каждого объекта тестовой выборки последовательно выполнить следующие шаги:  \n",
    "    1. Вычислить расстояние до каждого объекта из обучающей выборки. Сейчас расстояние будем вычислять по формуле Евклида (на следующих шагах рассмотрим и другие метрики). Для двух точек с тремя координатами (фичами) Евклидово расстояние считается так: $$D_{eucl} = \\sqrt{(x_2 - x_1)^2 + (y_2 - y_1)^2 + (z_2 - z_1)^2}$$  \n",
    "        где:  \n",
    "        * x1, y1, z1 – координаты (или иные количественные свойства) первой точки;  \n",
    "        * x2, y2, z2 – координаты второй точки.\n",
    "        \n",
    "    2. Отобрать k объектов обучающей выборки, расстояние до которых минимально.  \n",
    "    3. Определить, какой класс наиболее часто встречается (мода) – это и будет классом целевого объекта. Если число объектов в каждом из классов одинаковое, возвращаем класс 1. З.Ы. Рассматриваем только задачу бинарной классификации (с классами 0 и 1).\n",
    "3. Вернуть вектор предсказаний.  \n",
    "\n",
    "**predict_proba**  \n",
    "\n",
    "1. На вход принимать матрицу фичей в виде датафрейма пандаса.  \n",
    "2. Для каждого объекта тестовой выборки последовательно выполнить следующие шаги:  \n",
    "    1. Вычислить Евклидово расстояние до каждого объекта из обучающей выборки.  \n",
    "    2. Отобрать k объектов обучающей выборки, расстояние до которых минимально.  \n",
    "    3. Подсчитать вероятность для класса 1.      \n",
    "3. Вернуть список вероятностей."
   ]
  },
  {
   "cell_type": "code",
   "execution_count": 9,
   "id": "561d47df",
   "metadata": {},
   "outputs": [],
   "source": [
    "class MyKNNClf():\n",
    "    \n",
    "    def __init__(self,\n",
    "                 k: int = 3):\n",
    "    \n",
    "        self.k = k\n",
    "        \n",
    "        self.X_train = None\n",
    "        self.y_train = None\n",
    "        self.train_size = None\n",
    "    \n",
    "    def __repr__(self):\n",
    "        params = [f'{key}={value}' for key, value in self.__dict__.items()]\n",
    "        return 'MyKNNClf class: ' + ', '.join(params)\n",
    "        \n",
    "    def __str__(self):\n",
    "        return self.__repr__()\n",
    "    \n",
    "    \n",
    "    def fit(self, X:pd.DataFrame, y:pd.Series) -> None:\n",
    "        self.X_train = X.copy()\n",
    "        self.y_train = y.copy()\n",
    "        self.train_size = tuple(X.shape)\n",
    "        \n",
    "    def predict(self, X: pd.DataFrame) -> np.array:\n",
    "        y_pred = np.array([])\n",
    "        for i in range(X.shape[0]):\n",
    "            start_point = X.iloc[i]\n",
    "            distance_list = np.array([])\n",
    "\n",
    "            for j in range(self.train_size[0]):\n",
    "                end_point = self.X_train.iloc[j]\n",
    "                # Вычисление расстояния до каждого объекта выборки\n",
    "                d_eucl = (((end_point - start_point) ** 2).sum())**0.5\n",
    "                distance_list = np.append(distance_list, d_eucl)\n",
    "\n",
    "            # Отбираются k объектов, расстояние до которых минимально\n",
    "            distance_list = np.array(distance_list)\n",
    "            k_near = np.argsort(distance_list)[:self.k]\n",
    "            k_near_class = self.y_train[k_near].to_numpy().ravel()  \n",
    "\n",
    "            # Определяется мода, если число объектов в каждом из классов одинаковое, возвращается класс 1.\n",
    "            values, counts = np.unique(k_near_class, return_counts=True)\n",
    "            max_count_index = np.argmax(counts)\n",
    "            mode_value = values[max_count_index]\n",
    "            mode_count = counts[max_count_index]\n",
    "            if (self.k / mode_count) == 2:\n",
    "                y_pred = np.append(y_pred, 1)\n",
    "            else:\n",
    "                y_pred = np.append(y_pred, mode_value)\n",
    "                \n",
    "        return y_pred.astype(np.int64)\n",
    "    \n",
    "    def predict_proba(self, X: pd.DataFrame) -> np.array:\n",
    "        y_pred_proba = np.array([])\n",
    "        for i in range(X.shape[0]):\n",
    "            start_point = X.iloc[i]\n",
    "            distance_list = []\n",
    "\n",
    "            for j in range(self.train_size[0]):\n",
    "                end_point = self.X_train.iloc[j]\n",
    "                # Вычисление расстояния до каждого объекта выборки\n",
    "                d_eucl = np.sqrt(((end_point - start_point) ** 2).sum())\n",
    "                distance_list.append(d_eucl)\n",
    "\n",
    "            # Отбираются k объектов, расстояние до которых минимально\n",
    "            distance_list = np.array(distance_list)\n",
    "            k_near = np.argsort(distance_list)[:self.k]\n",
    "            k_near_class = self.y_train[k_near].to_numpy().ravel() \n",
    "\n",
    "            # Определяется мода, если число объектов в каждом из классов одинаковое, возвращается класс 1.\n",
    "            values, counts = np.unique(k_near_class, return_counts=True)\n",
    "            max_count_index = np.argmax(counts)\n",
    "            mode_value = values[max_count_index]\n",
    "            mode_count = counts[max_count_index]\n",
    "\n",
    "            if mode_value == 1:\n",
    "                y_pred_proba = np.append(y_pred_proba, mode_count / self.k)\n",
    "            else:\n",
    "                y_pred_proba = np.append(y_pred_proba, (self.k - mode_count) / self.k)\n",
    "\n",
    "        return y_pred_proba"
   ]
  },
  {
   "cell_type": "code",
   "execution_count": 10,
   "id": "f615c5fd",
   "metadata": {},
   "outputs": [],
   "source": [
    "knn = MyKNNClf(1)\n",
    "knn.fit(X, y)"
   ]
  },
  {
   "cell_type": "code",
   "execution_count": 11,
   "id": "e94ed18b",
   "metadata": {},
   "outputs": [
    {
     "data": {
      "text/plain": [
       "array([1, 1, 1, 1, 0, 0, 0, 1, 0, 1, 1, 1, 0, 0, 0, 0, 0, 0, 0, 0, 1, 1,\n",
       "       1, 0, 1, 1, 1, 0, 0, 0, 0, 1, 1, 0, 1, 1, 0, 0, 1, 0, 0, 0, 1, 1,\n",
       "       0, 1, 1, 0, 1, 1], dtype=int64)"
      ]
     },
     "execution_count": 11,
     "metadata": {},
     "output_type": "execute_result"
    }
   ],
   "source": [
    "pred = knn.predict(X)\n",
    "pred"
   ]
  },
  {
   "cell_type": "code",
   "execution_count": 12,
   "id": "d6f3fb8a",
   "metadata": {},
   "outputs": [
    {
     "data": {
      "text/plain": [
       "25"
      ]
     },
     "execution_count": 12,
     "metadata": {},
     "output_type": "execute_result"
    }
   ],
   "source": [
    "pred.sum()"
   ]
  },
  {
   "cell_type": "code",
   "execution_count": 13,
   "id": "e147bd73",
   "metadata": {},
   "outputs": [
    {
     "data": {
      "text/plain": [
       "array([1., 1., 1., 1., 0., 0., 0., 1., 0., 1., 1., 1., 0., 0., 0., 0., 0.,\n",
       "       0., 0., 0., 1., 1., 1., 0., 1., 1., 1., 0., 0., 0., 0., 1., 1., 0.,\n",
       "       1., 1., 0., 0., 1., 0., 0., 0., 1., 1., 0., 1., 1., 0., 1., 1.])"
      ]
     },
     "execution_count": 13,
     "metadata": {},
     "output_type": "execute_result"
    }
   ],
   "source": [
    "pred_proba = knn.predict_proba(X)\n",
    "pred_proba"
   ]
  },
  {
   "cell_type": "code",
   "execution_count": 14,
   "id": "ae9e4325",
   "metadata": {},
   "outputs": [
    {
     "data": {
      "text/plain": [
       "25.0"
      ]
     },
     "execution_count": 14,
     "metadata": {},
     "output_type": "execute_result"
    }
   ],
   "source": [
    "pred_proba.sum()"
   ]
  },
  {
   "cell_type": "markdown",
   "id": "e06f66b9",
   "metadata": {},
   "source": [
    "### 3.1.4 Метрики<a id='3.1.4'></a>"
   ]
  },
  {
   "attachments": {
    "image-2.png": {
     "image/png": "[encoded data removed]"
    },
    "image-3.png": {
     "image/png": "[encoded data removed]"
    },
    "image.png": {
     "image/png": "[encoded data removed]"
    }
   },
   "cell_type": "markdown",
   "id": "c760ccc2",
   "metadata": {},
   "source": [
    "![image.png](attachment:image.png)  \n",
    "\n",
    "**Евклидово расстояние**  \n",
    "Евклидово расстояние в двумерном и трехмерном пространстве представляет собой прямую линию, соединяющую две точки.  \n",
    "\n",
    "Евклидово расстояние мы уже знаем как вычисляется:  \n",
    "$$\\large\n",
    "D_{eucl} = \\sqrt{(x_2 - x_1)^2 + (y_2 - y_1)^2 + (z_2 - z_1)^2}\n",
    "$$  \n",
    "где:  \n",
    "* x1, y1, z1  - координаты (или иные количественные свойства) первой точки;  \n",
    "* x2, y2, z2  - координаты второй точки.  \n",
    "\n",
    "**Манхэттенское расстояние**  \n",
    "Манхэттенское расстояние измеряет дистанцию не по кратчайшей прямой, а по блокам: это расстояние всех прямых линий пути.  \n",
    "![image-2.png](attachment:image-2.png)  \n",
    "В трехмерном пространстве Манхэттенское расстояние между двумя точками рассчитывается так:  \n",
    "$$\\large\n",
    "D_{manh} = |x_2 - x_1| + |y_2 - y_1| + |z_2 - z_1|\n",
    "$$  \n",
    "\n",
    "**Расстояние Чебышёва**  \n",
    "Расстояние Чебышёва оценивает абсолютный максимум значения разности между координатами пары объектов.  \n",
    "\n",
    "В трехмерном пространстве рассчитывается так:  \n",
    "$$\\large\n",
    "D_{cheb} = max(|x_2 - x_1|, |y_2 - y_1|, |z_2 - z_1|)\n",
    "$$  \n",
    "\n",
    "Разница между Евклидовым, Манхэттенским и расстоянием Чебышева:  \n",
    "![image-3.png](attachment:image-3.png)  \n",
    "\n",
    "**Косинусное расстояние**  \n",
    "Косинусное расстояние это мера сходства двух ненулевых векторов. Оценивается косинусное расстояние посредством косинуса угла между двумя векторами.  \n",
    "\n",
    "Для расчета косинусного расстояния в трехмерном пространстве используется следующая формула:  \n",
    "$$\\large\n",
    "D_{cos} = 1 - \\frac{x_1 x_2 + y_1 y_2 + z_1 z_2}{\\sqrt{x_1^2 + y_1^2 + z_1^2} * \\sqrt{x_2^2 + y_2^2 + z_2^2}}\n",
    "$$"
   ]
  },
  {
   "cell_type": "markdown",
   "id": "e2ab33ed",
   "metadata": {},
   "source": [
    "### Реализация  \n",
    "Добавьте в класс MyKNNClf параметр metric, который принимает одно из следующих значений:  \n",
    "\n",
    "* euclidean  \n",
    "* chebyshev  \n",
    "* manhattan  \n",
    "* cosine  \n",
    "\n",
    "Значение по-умолчанию: euclidean  \n",
    "\n",
    "При обучении и вычислении дистанции между точками должна использоваться соответствующая метрика."
   ]
  },
  {
   "cell_type": "code",
   "execution_count": 15,
   "id": "1fe05ee1",
   "metadata": {},
   "outputs": [],
   "source": [
    "class MyKNNClf():\n",
    "    \n",
    "    def __init__(self,\n",
    "                 k: int = 3,\n",
    "                 metric: str = 'euclidean'):\n",
    "    \n",
    "        self.k = k\n",
    "        self.metric = metric # euclidean, chebyshev, manhattan, cosine\n",
    "        \n",
    "        self.X_train = None\n",
    "        self.y_train = None\n",
    "        self.train_size = None\n",
    "    \n",
    "    def __repr__(self):\n",
    "        params = [f'{key}={value}' for key, value in self.__dict__.items()]\n",
    "        return 'MyKNNClf class: ' + ', '.join(params)\n",
    "        \n",
    "    def __str__(self):\n",
    "        return self.__repr__()\n",
    "    \n",
    "    # Обучение\n",
    "    def fit(self, X:pd.DataFrame, y:pd.Series) -> None:\n",
    "        self.X_train = X.copy()\n",
    "        self.y_train = y.copy()\n",
    "        self.train_size = tuple(X.shape)\n",
    "    \n",
    "    # Рассчет Евклидова расстояния\n",
    "    def _euclidean(self, X_i: np.array) -> np.array:\n",
    "        return np.sqrt(np.sum((self.X_train - X_i) ** 2, axis=1))\n",
    "    \n",
    "    # Рассчет Манхэттенского расстояния\n",
    "    def _manhattan(self, X_i: np.array) -> np.array:\n",
    "        return np.sum(np.abs(self.X_train - X_i), axis=1)\n",
    "    \n",
    "    # Рассчет расстояния Чебышева\n",
    "    def _chebyshev(self, X_i: np.array) -> np.array:\n",
    "        return np.max(np.abs(self.X_train - X_i), axis = 1)\n",
    "    \n",
    "    # Рассчет косинусного расстояния\n",
    "    def _cosine(self, X_i: np.array) -> np.array:\n",
    "        return 1 - np.sum(self.X_train * X_i, axis = 1) / np.sqrt(np.sum(X_i**2) *  np.sum(self.X_train**2, axis = 1))\n",
    "    \n",
    "    # Предсказание класса для одного наблюдения \n",
    "    def _make_prediction(self, X_i: np.array) -> int:\n",
    "        distances = getattr(self, '_' + self.metric)(X_i)\n",
    "        k_nearest_indexes = np.argsort(distances)[:self.k]\n",
    "        k_nearest_classes = y[k_nearest_indexes]\n",
    "    \n",
    "        if k_nearest_classes.mean() >= 0.5:\n",
    "            prediction = 1\n",
    "        else:\n",
    "            prediction = 0\n",
    "       \n",
    "        return prediction\n",
    "    \n",
    "    # Предсказание для ряда наблюдений\n",
    "    def predict(self, X: pd.DataFrame) -> np.array:\n",
    "        X = X.to_numpy()\n",
    "        return np.array([self._make_prediction(x) for x in X])\n",
    "    \n",
    "    # Предсказание вероятности соотнесения одного наблюдения к классу 1\n",
    "    def _make_prediction_proba(self, X_i: np.array) -> float:\n",
    "        distances = getattr(self, '_' + self.metric)(X_i)\n",
    "        k_nearest_indexes = np.argsort(distances)[:self.k]\n",
    "        k_nearest_classes = y[k_nearest_indexes]\n",
    "        return k_nearest_classes.mean()\n",
    "\n",
    "    # Предсказание вероятности соотнесения наблюдений к классу 1\n",
    "    def predict_proba(self, X: pd.DataFrame) -> np.array:\n",
    "        X = X.to_numpy()\n",
    "        return np.array([self._make_prediction_proba(x) for x in X])\n"
   ]
  },
  {
   "cell_type": "code",
   "execution_count": 16,
   "id": "78388c50",
   "metadata": {},
   "outputs": [],
   "source": [
    "knn = MyKNNClf(3, 'cosine')\n",
    "knn.fit(X, y)"
   ]
  },
  {
   "cell_type": "code",
   "execution_count": 17,
   "id": "54867efa",
   "metadata": {},
   "outputs": [
    {
     "data": {
      "text/plain": [
       "26"
      ]
     },
     "execution_count": 17,
     "metadata": {},
     "output_type": "execute_result"
    }
   ],
   "source": [
    "knn.predict(X).sum()"
   ]
  },
  {
   "cell_type": "code",
   "execution_count": 18,
   "id": "b7026c68",
   "metadata": {},
   "outputs": [
    {
     "data": {
      "text/plain": [
       "array([1.        , 1.        , 1.        , 1.        , 0.        ,\n",
       "       0.        , 0.        , 0.66666667, 0.        , 1.        ,\n",
       "       1.        , 1.        , 0.        , 0.        , 0.        ,\n",
       "       0.        , 0.        , 0.        , 0.        , 0.33333333,\n",
       "       1.        , 1.        , 1.        , 0.        , 1.        ,\n",
       "       0.66666667, 1.        , 0.        , 0.        , 0.        ,\n",
       "       0.        , 1.        , 1.        , 0.        , 1.        ,\n",
       "       1.        , 0.66666667, 0.        , 1.        , 0.        ,\n",
       "       0.        , 0.        , 1.        , 0.66666667, 0.        ,\n",
       "       1.        , 1.        , 0.        , 1.        , 1.        ])"
      ]
     },
     "execution_count": 18,
     "metadata": {},
     "output_type": "execute_result"
    }
   ],
   "source": [
    "knn.predict_proba(X)"
   ]
  },
  {
   "cell_type": "code",
   "execution_count": 19,
   "id": "cfb2f746",
   "metadata": {},
   "outputs": [
    {
     "data": {
      "text/plain": [
       "25.0"
      ]
     },
     "execution_count": 19,
     "metadata": {},
     "output_type": "execute_result"
    }
   ],
   "source": [
    "knn.predict_proba(X).sum()"
   ]
  },
  {
   "cell_type": "markdown",
   "id": "bd3967ca",
   "metadata": {},
   "source": [
    "### 3.1.5 Взвешенный kNN<a id ='3.1.5'></a>"
   ]
  },
  {
   "attachments": {
    "image-3.png": {
     "image/png": "[encoded data removed]"
    },
    "image.png": {
     "image/png": "[encoded data removed]"
    }
   },
   "cell_type": "markdown",
   "id": "8149844c",
   "metadata": {},
   "source": [
    "У базового алгоритма kNN есть один большой недостаток: он никак не учитывает расстояния между объектами при определении класса. Однако, логично предположить, что чем дальше пример расположен от классифицируемого объекта в пространстве признаков, тем ниже его значимость для определения класса.  \n",
    "\n",
    "Так появился метод взвешенных ближайших соседей (взвешенный kNN), в котором при расчете класса целевого объекта учитываются веса соседей.  \n",
    "\n",
    "Есть множество вариантов подбора весов для объектов. В этом курсе мы рассмотрим два:  \n",
    "\n",
    "**Порядковый номер**  \n",
    "![image.png](attachment:image.png)  \n",
    "В этом варианте соседу приписывается вес обратно пропорциональный порядковому номеру соседа в отсортированном по удаленности списке.  \n",
    "\n",
    "Тогда вес каждого класса это сумма весов соседей из класса нормированная на сумму весов всех соседей:  \n",
    "$$\\large\n",
    "Q_j = \\frac{\\sum_{i=1}^{n_j}{\\frac{1}{R_{ij}}}}{\\sum_{i=1}^n{\\frac{1}{R_i}}}\n",
    "$$  \n",
    "\n",
    "где:  \n",
    "* Q_j - вес j-го класса;  \n",
    "* R_ij - порядковый номер i-го соседа j-го класса;\n",
    "* R_i - порядковый номер i-го соседа.  \n",
    "З.Ы. Отсчет порядковых номеров начинается с 1.  \n",
    "\n",
    "В результате объекту приписывается класс, который набирает наибольший суммарный вес среди k ближайших соседей.  \n",
    "\n",
    "**Дистанция**  \n",
    "\n",
    "Здесь вес соседа зависит напрямую от расстояния до него. Чем меньше расстояние, тем более значимый вклад вносит голос.\n",
    "А вес каждого класса определяется следующим образом:  \n",
    "$$\\large\n",
    "Q_j = \\frac{\\sum_{i=1}^{n_j}{\\frac{1}{D_{ij}}}}{\\sum_{i=1}^n{\\frac{1}{D_i}}}\n",
    "$$  \n",
    "\n",
    "где:  \n",
    "* D_ij - дистанция до i-го соседа j-го класса;\n",
    "* D_i - дистанция до i-го соседа.  \n",
    "\n",
    "Как и в предыдущем варианте, побеждает класс набравший наибольший вес.  \n",
    "\n",
    "**Пример**  \n",
    "Возьмем гипотетическую точку, рядом с которой находятся следующие пять точек уже отсортированных по расстоянию:  \n",
    "![image-3.png](attachment:image-3.png)  \n",
    "Посчитаем вес классов по их рангу:  \n",
    "$$\\large\n",
    "Q_0 = \\frac{\\frac{1}{1} + \\frac{1}{5}}{\\frac{1}{1} + \\frac{1}{2} + \\frac{1}{3} + \\frac{1}{4} + \\frac{1}{5}} = 0,525547\n",
    "$$  \n",
    "$$\\large\n",
    "Q_0 = \\frac{\\frac{1}{2} + \\frac{1}{3} + \\frac{1}{4}}{\\frac{1}{1} + \\frac{1}{2} + \\frac{1}{3} + \\frac{1}{4} + \\frac{1}{5}} = 0,474453\n",
    "$$\n",
    "\n",
    "В это случае мы бы присвоили искомой точке 0 класс  \n",
    "\n",
    "Посчитаем вес классов по их удаленности:  \n",
    "\n",
    "$$\\large\n",
    "Q_0 = \\frac{\\frac{1}{3} + \\frac{1}{10}}{\\frac{1}{3} + \\frac{1}{4} + \\frac{1}{6} + \\frac{1}{9} + \\frac{1}{10}} = 0,450867\n",
    "$$  \n",
    "$$\\large\n",
    "Q_0 = \\frac{\\frac{1}{4} + \\frac{1}{6} + \\frac{1}{9}}{\\frac{1}{3} + \\frac{1}{4} + \\frac{1}{6} + \\frac{1}{9} + \\frac{1}{10}} = 0,549133\n",
    "$$\n",
    "\n",
    "А в этом случае мы бы уже присвоили 1 класс."
   ]
  },
  {
   "cell_type": "markdown",
   "id": "0b80991a",
   "metadata": {},
   "source": [
    "### Реализация"
   ]
  },
  {
   "cell_type": "markdown",
   "id": "feee2fb6",
   "metadata": {},
   "source": [
    "Добавьте в класс MyKNNClf параметр weight, которые принимает одно из следующих значений:  \n",
    "\n",
    "* uniform  \n",
    "* rank  \n",
    "* distance  \n",
    "Значение по-умолчанию: uniform\n",
    "\n",
    "Внесите следуюшие изменения в работу алгоритма:  \n",
    "1. Если weight = uniform работаем как и раньше.  \n",
    "2. Если weight = rank или distance, то:  \n",
    "    1. Метод predict должен вычислять и возвращать класс с наибольшим весом. \n",
    "    2. Метод predict_proba должен возвращать вес класса 1.  "
   ]
  },
  {
   "cell_type": "code",
   "execution_count": 20,
   "id": "73586bc9",
   "metadata": {},
   "outputs": [],
   "source": [
    "class MyKNNClf():\n",
    "    \n",
    "    def __init__(self,\n",
    "                 k: int = 3,\n",
    "                 metric: str = 'euclidean',\n",
    "                 weight: str = 'uniform'):\n",
    "    \n",
    "        self.k = k\n",
    "        self.metric = metric # euclidean, chebyshev, manhattan, cosine \n",
    "        self.weight = weight # uniform, rank, distance\n",
    "        \n",
    "        self.X_train = None\n",
    "        self.y_train = None\n",
    "        self.train_size = None\n",
    "    \n",
    "    def __repr__(self):\n",
    "        params = [f'{key}={value}' for key, value in self.__dict__.items()]\n",
    "        return 'MyKNNClf class: ' + ', '.join(params)\n",
    "        \n",
    "    def __str__(self):\n",
    "        return self.__repr__()\n",
    "    \n",
    "    # Обучение\n",
    "    def fit(self, X:pd.DataFrame, y:pd.Series) -> None:\n",
    "        self.X_train = X.copy()\n",
    "        self.y_train = y.copy()\n",
    "        self.train_size = tuple(X.shape)\n",
    "    \n",
    "    # Рассчет Евклидова расстояния\n",
    "    def _euclidean(self, X_i: np.array) -> np.array:\n",
    "        return np.sqrt(np.sum((self.X_train - X_i) ** 2, axis=1))\n",
    "    \n",
    "    # Рассчет Манхэттенского расстояния\n",
    "    def _manhattan(self, X_i: np.array) -> np.array:\n",
    "        return np.sum(np.abs(self.X_train - X_i), axis=1)\n",
    "    \n",
    "    # Рассчет расстояния Чебышева\n",
    "    def _chebyshev(self, X_i: np.array) -> np.array:\n",
    "        return np.max(np.abs(self.X_train - X_i), axis = 1)\n",
    "    \n",
    "    # Рассчет косинусного расстояния\n",
    "    def _cosine(self, X_i: np.array) -> np.array:\n",
    "        return 1 - np.sum(self.X_train * X_i, axis = 1) / np.sqrt(np.sum(X_i**2) *  np.sum(self.X_train**2, axis = 1))\n",
    "    \n",
    "    # Предсказание класса всех наблюдений\n",
    "    def predict(self, X: pd.DataFrame) -> np.array:\n",
    "        return np.where(self.predict_proba(X) >= 0.5, 1, 0)\n",
    "    \n",
    "    # Предсказание вероятности соотнесения одного наблюдения к классу 1\n",
    "    def _make_prediction_proba(self, X_i: np.array) -> float:\n",
    "        distances = getattr(self, '_' + self.metric)(X_i)\n",
    "        k_nearest_distances = np.sort(distances)[:self.k]\n",
    "        k_nearest_indexes = np.argsort(distances)[:self.k]\n",
    "        k_nearest_classes = y[k_nearest_indexes].ravel()\n",
    "        \n",
    "        df = pd.DataFrame({'ranks': np.arange(1, self.k+1), \n",
    "                           'classes': k_nearest_classes, \n",
    "                           'distances': k_nearest_distances})\n",
    "        \n",
    "        # Взвешенный kNN\n",
    "        # веса соседей не учитываются\n",
    "        if self.weight == 'uniform':\n",
    "            return k_nearest_classes.mean()\n",
    "        # по порядковому номеру\n",
    "        elif self.weight == 'rank':\n",
    "            Q_1 = (1 / df[df.classes == 1].ranks).sum() / (1 / df.ranks).sum()\n",
    "            return Q_1\n",
    "        # по дистанции    \n",
    "        elif self.weight == 'distance':\n",
    "            D_1 = (1 / df[df.classes == 1].distances).sum() / (1 / df.distances).sum()\n",
    "            return D_1   \n",
    "        else:\n",
    "            raise ValueError('Invalid weight. Supported weights: uniform, rank, distance')\n",
    "\n",
    "    # Предсказание вероятности соотнесения всех наблюдений к классу 1\n",
    "    def predict_proba(self, X: pd.DataFrame) -> np.array:\n",
    "        X = X.to_numpy()\n",
    "        return np.array([self._make_prediction_proba(x) for x in X])"
   ]
  },
  {
   "cell_type": "code",
   "execution_count": 21,
   "id": "40d8c038",
   "metadata": {},
   "outputs": [],
   "source": [
    "knn = MyKNNClf(3, 'cosine', 'rank')\n",
    "knn.fit(X, y)"
   ]
  },
  {
   "cell_type": "code",
   "execution_count": 22,
   "id": "da911f3f",
   "metadata": {},
   "outputs": [
    {
     "data": {
      "text/plain": [
       "25"
      ]
     },
     "execution_count": 22,
     "metadata": {},
     "output_type": "execute_result"
    }
   ],
   "source": [
    "knn.predict(X).sum()"
   ]
  },
  {
   "cell_type": "code",
   "execution_count": 23,
   "id": "46051bf5",
   "metadata": {},
   "outputs": [
    {
     "data": {
      "text/plain": [
       "25.0"
      ]
     },
     "execution_count": 23,
     "metadata": {},
     "output_type": "execute_result"
    }
   ],
   "source": [
    "knn.predict_proba(X).sum()"
   ]
  },
  {
   "cell_type": "markdown",
   "id": "7a15be98",
   "metadata": {},
   "source": [
    "## 3.2 Метод ближайших соседей (регрессия)<a id='3.2'></a>"
   ]
  },
  {
   "cell_type": "code",
   "execution_count": 24,
   "id": "8ecb3c94",
   "metadata": {},
   "outputs": [],
   "source": [
    "import pandas as pd\n",
    "import numpy as np"
   ]
  },
  {
   "cell_type": "code",
   "execution_count": 25,
   "id": "9b91155e",
   "metadata": {},
   "outputs": [],
   "source": [
    "from sklearn.datasets import make_regression\n",
    "\n",
    "X, y = make_regression(n_samples=50, n_features=5, n_informative=2, noise=5, random_state=42)\n",
    "X = pd.DataFrame(X)\n",
    "y = pd.Series(y)\n",
    "X.columns = [f'col_{col}' for col in X.columns]"
   ]
  },
  {
   "attachments": {
    "image.png": {
     "image/png": "[encoded data removed]"
    }
   },
   "cell_type": "markdown",
   "id": "10b0f673",
   "metadata": {},
   "source": [
    "kNN для регрессии это по сути упрощенная версия kNN для классификации. Тут нам не нужно подсчитывать классы. Мы просто берем и усредняем таргет k ближайших соседей.  \n",
    "![image.png](attachment:image.png)"
   ]
  },
  {
   "cell_type": "markdown",
   "id": "6b2842df",
   "metadata": {},
   "source": [
    "### 3.2.1 Инициализация класса<a id='3.2.1'></a>"
   ]
  },
  {
   "cell_type": "markdown",
   "id": "044ce655",
   "metadata": {},
   "source": [
    "Создайте класс с именем MyKNNReg. Данный класс при инициализации должен принимать один параметр:  \n",
    "\n",
    "k – кол-во ближайших соседей, которые будем рассматривать при подсчете ответа. По-умолчанию: 3.  \n",
    "Все переданные (или дефолтные) параметры должны быть сохранены внутри класса.  \n",
    "\n",
    "При обращении к экземпляру класса (или при передачи его в функцию print) необходимо распечатать строку по следующему шаблону:  \n",
    "```python\n",
    "MyKNNReg class: k=<k>\n",
    "```"
   ]
  },
  {
   "cell_type": "code",
   "execution_count": 26,
   "id": "80091fdf",
   "metadata": {},
   "outputs": [],
   "source": [
    "class MyKNNReg():\n",
    "    \n",
    "    def __init__(self,\n",
    "                 k: int = 3):\n",
    "    \n",
    "        self.k = k\n",
    "        \n",
    "    \n",
    "    def __repr__(self):\n",
    "        params = [f'{key}={value}' for key, value in self.__dict__.items()]\n",
    "        return 'MyKNNReg class: ' + ', '.join(params)\n",
    "        \n",
    "    def __str__(self):\n",
    "        return self.__repr__()"
   ]
  },
  {
   "cell_type": "code",
   "execution_count": 27,
   "id": "ec0fa320",
   "metadata": {},
   "outputs": [
    {
     "data": {
      "text/plain": [
       "MyKNNReg class: k=3"
      ]
     },
     "execution_count": 27,
     "metadata": {},
     "output_type": "execute_result"
    }
   ],
   "source": [
    "knnreg = MyKNNReg()\n",
    "knnreg"
   ]
  },
  {
   "cell_type": "markdown",
   "id": "afddd9a4",
   "metadata": {},
   "source": [
    "### 3.2.2 Обучение<a id='3.2.2'></a>"
   ]
  },
  {
   "cell_type": "markdown",
   "id": "521fda6e",
   "metadata": {},
   "source": [
    "Доработайте класс MyKNNReg следующим образом:  \n",
    "\n",
    "1. В инициализатор класса добавьте переменную train_size. В ней будет храниться размер обучающей выборки.  \n",
    "2. Добавьте в класс метод fit. Данный метод должен делать следующее:   \n",
    "    1. На вход принимать две переменные:  \n",
    "        - X — все фичи в виде датафрейма пандаса.  \n",
    "        - y — целевая переменная в виде пандасовской серии.  \n",
    "    2. Сохранять X и y внутри модели.  \n",
    "    3. Записать в переменную train_size размер тренировочной выборки (X) в виде кортежа: (количество_строк, количество_столбцов)"
   ]
  },
  {
   "cell_type": "code",
   "execution_count": 28,
   "id": "f986a1f2",
   "metadata": {},
   "outputs": [],
   "source": [
    "class MyKNNReg():\n",
    "    \n",
    "    def __init__(self,\n",
    "                 k: int = 3):\n",
    "    \n",
    "        self.k = k\n",
    "        \n",
    "        self.X_train = None\n",
    "        self.y_train = None\n",
    "        self.train_size = None\n",
    "        \n",
    "    \n",
    "    def __repr__(self):\n",
    "        params = [f'{key}={value}' for key, value in self.__dict__.items()]\n",
    "        return 'MyKNNReg class: ' + ', '.join(params)\n",
    "        \n",
    "    def __str__(self):\n",
    "        return self.__repr__()\n",
    "    \n",
    "    \n",
    "    def fit(self, X:pd.DataFrame, y:pd.Series) -> None:\n",
    "        self.X_train = X.copy()\n",
    "        self.y_train = y.copy()\n",
    "        self.train_size = tuple(X.shape)"
   ]
  },
  {
   "cell_type": "code",
   "execution_count": 29,
   "id": "44cd39a9",
   "metadata": {},
   "outputs": [
    {
     "data": {
      "text/plain": [
       "(50, 5)"
      ]
     },
     "execution_count": 29,
     "metadata": {},
     "output_type": "execute_result"
    }
   ],
   "source": [
    "knnreg = MyKNNReg()\n",
    "knnreg.fit(X, y)\n",
    "knnreg.train_size"
   ]
  },
  {
   "cell_type": "markdown",
   "id": "dcb28a56",
   "metadata": {},
   "source": [
    "### 3.2.3 Предсказание<a id='3.2.3'></a>"
   ]
  },
  {
   "cell_type": "markdown",
   "id": "9d1cbfd1",
   "metadata": {},
   "source": [
    "Добавьте в класс MyKNNReg метод predict, который должен делать следующее:  \n",
    "\n",
    "1. На вход принимать матрицу фичей в виде датафрейма пандаса.  \n",
    "2. Для каждого объекта тестовой выборки последовательно выполнить следующие шаги:  \n",
    "    1. Вычислить расстояние до каждого объекта из обучающей выборки. Сейчас расстояние будем вычислять по формуле Евклида.\n",
    "       $$D_{eucl} = \\sqrt{(x_2 - x_1)^2 + (y_2 - y_1)^2 + (z_2 - z_1)^2}$$  \n",
    "        где:  \n",
    "        * x1, y1, z1 – координаты (или иные количественные свойства) первой точки;  \n",
    "        * x2, y2, z2 – координаты второй точки.\n",
    "        \n",
    "    2. Отобрать k объектов обучающей выборки, расстояние до которых минимально.  \n",
    "    3. Усреднить значения таргета ближайших k объектов.\n",
    "3. Вернуть вектор предсказаний.  "
   ]
  },
  {
   "cell_type": "code",
   "execution_count": 30,
   "id": "ca5688fb",
   "metadata": {},
   "outputs": [],
   "source": [
    "class MyKNNReg():\n",
    "    \n",
    "    def __init__(self,\n",
    "                 k: int = 3):\n",
    "    \n",
    "        self.k = k\n",
    "        \n",
    "        self.X_train = None\n",
    "        self.y_train = None\n",
    "        self.train_size = None\n",
    "        \n",
    "    \n",
    "    def __repr__(self):\n",
    "        params = [f'{key}={value}' for key, value in self.__dict__.items()]\n",
    "        return 'MyKNNReg class: ' + ', '.join(params)\n",
    "        \n",
    "    def __str__(self):\n",
    "        return self.__repr__()\n",
    "    \n",
    "    # Обучение\n",
    "    def fit(self, X:pd.DataFrame, y:pd.Series) -> None:\n",
    "        self.X_train = X.copy()\n",
    "        self.y_train = y.copy()\n",
    "        self.train_size = tuple(X.shape)\n",
    "        \n",
    "    # Рассчет предсказанного значения для одного наблюдения\n",
    "    def _make_prediction(self, X_i: np.array) -> float:\n",
    "        distances = np.sqrt(np.sum((self.X_train - X_i) ** 2, axis=1))\n",
    "        k_nearest_indexes = np.argsort(distances)[:self.k]\n",
    "        k_nearest_targets = y[k_nearest_indexes].ravel()\n",
    "        \n",
    "        return k_nearest_targets.mean()\n",
    "    \n",
    "    # Получить вектор предсказаний\n",
    "    def predict(self, X: pd.DataFrame) -> np.array:\n",
    "        X = X.to_numpy()\n",
    "        return np.array([self._make_prediction(x) for x in X])"
   ]
  },
  {
   "cell_type": "code",
   "execution_count": 31,
   "id": "d7e6e335",
   "metadata": {},
   "outputs": [],
   "source": [
    "knnreg = MyKNNReg()\n",
    "knnreg.fit(X, y)"
   ]
  },
  {
   "cell_type": "code",
   "execution_count": 32,
   "id": "a43811df",
   "metadata": {},
   "outputs": [
    {
     "data": {
      "text/plain": [
       "array([  8.64807018,  42.35755401,  -1.73189778,  -7.80942957,\n",
       "        76.52610343, -69.45890145,  52.39652796,  53.66548119,\n",
       "        72.45531191,  16.1750417 ,  59.68553848, -62.76368774,\n",
       "       -20.61752922,  44.80078851,  64.02685696,  23.10223906,\n",
       "        15.71243244, -92.41145939, -98.33957354,  63.52963809,\n",
       "        -7.50772697,  51.91195764, -49.18673981,   6.23726661,\n",
       "        42.35755401,   9.81377082,  61.56762337, -25.53058192,\n",
       "        51.91195764, -92.41145939,  35.02027971,  -1.52822233,\n",
       "        -8.97300158,  23.96164893,  -4.12152998,  15.98568871,\n",
       "       -69.45890145,  17.42887829,  21.34165415,  62.38771606,\n",
       "       -76.72843174, -28.00759259,  15.71243244,  -4.83796037,\n",
       "         6.83977407,  -7.80942957,  -5.03945639, -92.41145939,\n",
       "        -7.50772697,  51.91195764])"
      ]
     },
     "execution_count": 32,
     "metadata": {},
     "output_type": "execute_result"
    }
   ],
   "source": [
    "knnreg.predict(X)"
   ]
  },
  {
   "cell_type": "code",
   "execution_count": 33,
   "id": "09ced7dc",
   "metadata": {},
   "outputs": [
    {
     "data": {
      "text/plain": [
       "233.27904484892773"
      ]
     },
     "execution_count": 33,
     "metadata": {},
     "output_type": "execute_result"
    }
   ],
   "source": [
    "knnreg.predict(X).sum()"
   ]
  },
  {
   "cell_type": "markdown",
   "id": "4618fba4",
   "metadata": {},
   "source": [
    "### 3.2.4 Метрики<a id='3.2.4'></a>"
   ]
  },
  {
   "cell_type": "markdown",
   "id": "d684dd7e",
   "metadata": {},
   "source": [
    "Добавьте в класс MyKNNClf параметр metric, который принимает одно из следующих значений:  \n",
    "\n",
    "* euclidean  \n",
    "* chebyshev  \n",
    "* manhattan  \n",
    "* cosine  \n",
    "\n",
    "Значение по-умолчанию: euclidean  \n",
    "\n",
    "* Евклидово расстояние:  $$D_{eucl} = \\sqrt{(x_2 - x_1)^2 + (y_2 - y_1)^2 + (z_2 - z_1)^2}$$  \n",
    "* Расстояние Чебышёва:  $$D_{cheb} = max(|x_2 - x_1|, |y_2 - y_1|, |z_2 - z_1|)$$  \n",
    "* Манхэттенское расстояние:  $$D_{manh} = |x_2 - x_1| + |y_2 - y_1| + |z_2 - z_1|$$  \n",
    "* Косинусное расстояние:  $$D_{cos} = 1 - \\frac{x_1 x_2 + y_1 y_2 + z_1 z_2}{\\sqrt{x_1^2 + y_1^2 + z_1^2} * \\sqrt{x_2^2 + y_2^2 + z_2^2}}$$\n"
   ]
  },
  {
   "cell_type": "code",
   "execution_count": 34,
   "id": "e9bbbc3c",
   "metadata": {},
   "outputs": [],
   "source": [
    "class MyKNNReg():\n",
    "    \n",
    "    def __init__(self,\n",
    "                 k: int = 3,\n",
    "                 metric: str = 'euclidean'):\n",
    "    \n",
    "        self.k = k\n",
    "        self.metric = metric # euclidean, chebyshev, manhattan, cosine \n",
    "        \n",
    "        self.X_train = None\n",
    "        self.y_train = None\n",
    "        self.train_size = None\n",
    "        \n",
    "    \n",
    "    def __repr__(self):\n",
    "        params = [f'{key}={value}' for key, value in self.__dict__.items()]\n",
    "        return 'MyKNNReg class: ' + ', '.join(params)\n",
    "        \n",
    "    def __str__(self):\n",
    "        return self.__repr__()\n",
    "    \n",
    "    # Обучение\n",
    "    def fit(self, X:pd.DataFrame, y:pd.Series) -> None:\n",
    "        self.X_train = X.copy()\n",
    "        self.y_train = y.copy()\n",
    "        self.train_size = tuple(X.shape)  \n",
    "        \n",
    "    # Рассчет Евклидова расстояния\n",
    "    def _euclidean(self, X_i: np.array) -> np.array:\n",
    "        return np.sqrt(np.sum((self.X_train - X_i) ** 2, axis=1))\n",
    "    \n",
    "    # Рассчет Манхэттенского расстояния\n",
    "    def _manhattan(self, X_i: np.array) -> np.array:\n",
    "        return np.sum(np.abs(self.X_train - X_i), axis=1)\n",
    "    \n",
    "    # Рассчет расстояния Чебышева\n",
    "    def _chebyshev(self, X_i: np.array) -> np.array:\n",
    "        return np.max(np.abs(self.X_train - X_i), axis = 1)\n",
    "    \n",
    "    # Рассчет косинусного расстояния\n",
    "    def _cosine(self, X_i: np.array) -> np.array:\n",
    "        return 1 - np.sum(self.X_train * X_i, axis = 1) / np.sqrt(np.sum(X_i**2) *  np.sum(self.X_train**2, axis = 1))\n",
    "        \n",
    "    # Рассчет предсказанного значения для одного наблюдения\n",
    "    def _make_prediction(self, X_i: np.array) -> float:\n",
    "        distances = getattr(self, '_' + self.metric)(X_i)\n",
    "        k_nearest_indexes = np.argsort(distances)[:self.k]\n",
    "        k_nearest_targets = y[k_nearest_indexes].ravel()\n",
    "        \n",
    "        return k_nearest_targets.mean()\n",
    "    \n",
    "    # Получить вектор предсказаний\n",
    "    def predict(self, X: pd.DataFrame) -> np.array:\n",
    "        X = X.to_numpy()\n",
    "        return np.array([self._make_prediction(x) for x in X])"
   ]
  },
  {
   "cell_type": "code",
   "execution_count": 35,
   "id": "45683c8a",
   "metadata": {},
   "outputs": [],
   "source": [
    "knnreg = MyKNNReg(3, 'cosine')\n",
    "knnreg.fit(X, y)"
   ]
  },
  {
   "cell_type": "code",
   "execution_count": 36,
   "id": "c8b1d995",
   "metadata": {},
   "outputs": [
    {
     "data": {
      "text/plain": [
       "442.00164022314783"
      ]
     },
     "execution_count": 36,
     "metadata": {},
     "output_type": "execute_result"
    }
   ],
   "source": [
    "knnreg.predict(X).sum()"
   ]
  },
  {
   "cell_type": "markdown",
   "id": "7e04a3fc",
   "metadata": {},
   "source": [
    "### 3.2.5 Взвешенный kNN<a id='3.2.5'></a>"
   ]
  },
  {
   "cell_type": "markdown",
   "id": "a59ad133",
   "metadata": {},
   "source": [
    "В регрессии, чтобы подсчитать таргет для тестовой точки нам нужно сложить таргеты ее k ближайших соседей, умноженных на их веса.  \n",
    "$$\\large\n",
    "\\hat y = \\sum_{i=1}^n{w_iy_i}\n",
    "$$  \n",
    "где:  \n",
    "* y^ - предсказания для тестовой точки;   \n",
    "* w_i - вес i-го соседа;  \n",
    "* y_i - таргет i-го соседа.  \n",
    "\n",
    "А вес для соседа вычисляется в зависимости от подхода:  \n",
    "\n",
    "**Для порядковых номеров**  \n",
    "$$\\large\n",
    "w_i = \\frac{\\frac{1}{R_i}}{\\sum_{j=1}^n{\\frac{1}{R_j}}}\n",
    "$$  \n",
    "\n",
    "где:  \n",
    "* R_i - порядковый номер i-го соседа;  \n",
    "* R_j - порядковый номер среди всех ближайших соседей.  \n",
    "*порядковые номера начинаются с 1.*  \n",
    "\n",
    "**Для дистанции**  \n",
    "$$\\large\n",
    "w_i = \\frac{\\frac{1}{D_i}}{\\sum_{j=1}^n{\\frac{1}{D_j}}}\n",
    "$$ \n",
    "где:  \n",
    "* D_i - дистанция до i-го соседа;  \n",
    "* D_j - дистанция среди всех ближайших соседей.  "
   ]
  },
  {
   "cell_type": "markdown",
   "id": "126e8e84",
   "metadata": {},
   "source": [
    "### Реализация"
   ]
  },
  {
   "cell_type": "markdown",
   "id": "c9f3c512",
   "metadata": {},
   "source": [
    "Добавьте в класс MyKNNReg параметр weight, которые принимает одно из следующих значений:  \n",
    "\n",
    "* uniform  \n",
    "* rank  \n",
    "* distance  \n",
    "Значение по-умолчанию: uniform  \n",
    "\n",
    "Внесите следуюшие изменения в работу алгоритма:  \n",
    "1. Если weight = uniform работаем как и раньше.  \n",
    "2. Если weight = rank или distance, то метод predict должен вычислять предсказания с учетом весов соседей.  "
   ]
  },
  {
   "cell_type": "code",
   "execution_count": 37,
   "id": "a7f136d1",
   "metadata": {},
   "outputs": [],
   "source": [
    "class MyKNNReg():\n",
    "    \n",
    "    def __init__(self,\n",
    "                 k: int = 3,\n",
    "                 metric: str = 'euclidean',\n",
    "                 weight: str = 'uniform'):\n",
    "    \n",
    "        self.k = k\n",
    "        self.metric = metric # euclidean, chebyshev, manhattan, cosine \n",
    "        self.weight = weight # uniform, rank, distance\n",
    "        \n",
    "        self.X_train = None\n",
    "        self.y_train = None\n",
    "        self.train_size = None\n",
    "        \n",
    "    \n",
    "    def __repr__(self):\n",
    "        params = [f'{key}={value}' for key, value in self.__dict__.items()]\n",
    "        return 'MyKNNReg class: ' + ', '.join(params)\n",
    "        \n",
    "    def __str__(self):\n",
    "        return self.__repr__()\n",
    "    \n",
    "    # Обучение\n",
    "    def fit(self, X:pd.DataFrame, y:pd.Series) -> None:\n",
    "        self.X_train = X.copy()\n",
    "        self.y_train = y.copy()\n",
    "        self.train_size = tuple(X.shape)  \n",
    "        \n",
    "    # Рассчет Евклидова расстояния\n",
    "    def _euclidean(self, X_i: np.array) -> np.array:\n",
    "        return np.sqrt(np.sum((self.X_train - X_i) ** 2, axis=1))\n",
    "    \n",
    "    # Рассчет Манхэттенского расстояния\n",
    "    def _manhattan(self, X_i: np.array) -> np.array:\n",
    "        return np.sum(np.abs(self.X_train - X_i), axis=1)\n",
    "    \n",
    "    # Рассчет расстояния Чебышева\n",
    "    def _chebyshev(self, X_i: np.array) -> np.array:\n",
    "        return np.max(np.abs(self.X_train - X_i), axis = 1)\n",
    "    \n",
    "    # Рассчет косинусного расстояния\n",
    "    def _cosine(self, X_i: np.array) -> np.array:\n",
    "        return 1 - np.sum(self.X_train * X_i, axis = 1) / np.sqrt(np.sum(X_i**2) *  np.sum(self.X_train**2, axis = 1))\n",
    "        \n",
    "    # Рассчет предсказанного значения для одного наблюдения\n",
    "    def _make_prediction(self, X_i: np.array) -> float:\n",
    "        distances = getattr(self, '_' + self.metric)(X_i)\n",
    "        k_nearest_distances = np.sort(distances)[:self.k]\n",
    "        k_nearest_indexes = np.argsort(distances)[:self.k]\n",
    "        k_nearest_targets = y[k_nearest_indexes].ravel()\n",
    "        \n",
    "        df = pd.DataFrame({'ranks': np.arange(1, self.k+1), \n",
    "                           'targets': k_nearest_targets, \n",
    "                           'distances': k_nearest_distances})\n",
    "        \n",
    "        # Взвешенный kNN\n",
    "        # веса соседей не учитываются\n",
    "        if self.weight == 'uniform':\n",
    "            return k_nearest_targets.mean()\n",
    "        # по порядковому номеру\n",
    "        elif self.weight == 'rank':\n",
    "            df['weights'] = (1 / df.ranks) / (1 / df.ranks).sum()\n",
    "            return (df.weights * df.targets).sum()\n",
    "        # по дистанции    \n",
    "        elif self.weight == 'distance':\n",
    "            df['weights'] = (1 / df.distances) / (1 / df.distances).sum()\n",
    "            return (df.weights * df.targets).sum()    \n",
    "        else:\n",
    "            raise ValueError('Invalid weight. Supported weights: uniform, rank, distance')\n",
    "    \n",
    "    # Получить вектор предсказаний\n",
    "    def predict(self, X: pd.DataFrame) -> np.array:\n",
    "        X = X.to_numpy()\n",
    "        return np.array([self._make_prediction(x) for x in X])"
   ]
  },
  {
   "cell_type": "code",
   "execution_count": 38,
   "id": "e1e61734",
   "metadata": {},
   "outputs": [],
   "source": [
    "knnreg = MyKNNReg(3, 'cosine', 'rank')\n",
    "knnreg.fit(X, y)"
   ]
  },
  {
   "cell_type": "code",
   "execution_count": 39,
   "id": "a1ead3a5",
   "metadata": {},
   "outputs": [
    {
     "data": {
      "text/plain": [
       "409.73802893550874"
      ]
     },
     "execution_count": 39,
     "metadata": {},
     "output_type": "execute_result"
    }
   ],
   "source": [
    "knnreg.predict(X).sum()"
   ]
  },
  {
   "cell_type": "markdown",
   "id": "0d7993f2",
   "metadata": {},
   "source": [
    "### Финальные версии моделей<a id='3fin'></a>"
   ]
  },
  {
   "cell_type": "markdown",
   "id": "d27181d3",
   "metadata": {},
   "source": [
    "**Классификация**"
   ]
  },
  {
   "cell_type": "code",
   "execution_count": 40,
   "id": "1e3430a9",
   "metadata": {},
   "outputs": [],
   "source": [
    "class MyKNNClf():\n",
    "    \n",
    "    def __init__(self,\n",
    "                 k: int = 3,\n",
    "                 metric: str = 'euclidean',\n",
    "                 weight: str = 'uniform'):\n",
    "    \n",
    "        self.k = k\n",
    "        self.metric = metric # euclidean, chebyshev, manhattan, cosine \n",
    "        self.weight = weight # uniform, rank, distance\n",
    "        \n",
    "        self.X_train = None\n",
    "        self.y_train = None\n",
    "        self.train_size = None\n",
    "    \n",
    "    def __repr__(self):\n",
    "        params = [f'{key}={value}' for key, value in self.__dict__.items()]\n",
    "        return 'MyKNNClf class: ' + ', '.join(params)\n",
    "        \n",
    "    def __str__(self):\n",
    "        return self.__repr__()\n",
    "    \n",
    "    # Обучение\n",
    "    def fit(self, X:pd.DataFrame, y:pd.Series) -> None:\n",
    "        self.X_train = X.copy()\n",
    "        self.y_train = y.copy()\n",
    "        self.train_size = tuple(X.shape)\n",
    "    \n",
    "    # Рассчет Евклидова расстояния\n",
    "    def _euclidean(self, X_i: np.array) -> np.array:\n",
    "        return np.sqrt(np.sum((self.X_train - X_i) ** 2, axis=1))\n",
    "    \n",
    "    # Рассчет Манхэттенского расстояния\n",
    "    def _manhattan(self, X_i: np.array) -> np.array:\n",
    "        return np.sum(np.abs(self.X_train - X_i), axis=1)\n",
    "    \n",
    "    # Рассчет расстояния Чебышева\n",
    "    def _chebyshev(self, X_i: np.array) -> np.array:\n",
    "        return np.max(np.abs(self.X_train - X_i), axis = 1)\n",
    "    \n",
    "    # Рассчет косинусного расстояния\n",
    "    def _cosine(self, X_i: np.array) -> np.array:\n",
    "        return 1 - np.sum(self.X_train * X_i, axis = 1) / np.sqrt(np.sum(X_i**2) *  np.sum(self.X_train**2, axis = 1))\n",
    "    \n",
    "    # Предсказание класса всех наблюдений\n",
    "    def predict(self, X: pd.DataFrame) -> np.array:\n",
    "        return np.where(self.predict_proba(X) >= 0.5, 1, 0)\n",
    "    \n",
    "    # Предсказание вероятности соотнесения одного наблюдения к классу 1\n",
    "    def _make_prediction_proba(self, X_i: np.array) -> float:\n",
    "        distances = getattr(self, '_' + self.metric)(X_i)\n",
    "        k_nearest_distances = np.sort(distances)[:self.k]\n",
    "        k_nearest_indexes = np.argsort(distances)[:self.k]\n",
    "        k_nearest_classes = y[k_nearest_indexes].ravel()\n",
    "        \n",
    "        df = pd.DataFrame({'ranks': np.arange(1, self.k+1), \n",
    "                           'classes': k_nearest_classes, \n",
    "                           'distances': k_nearest_distances})\n",
    "        \n",
    "        # Взвешенный kNN\n",
    "        # веса соседей не учитываются\n",
    "        if self.weight == 'uniform':\n",
    "            return k_nearest_classes.mean()\n",
    "        # по порядковому номеру\n",
    "        elif self.weight == 'rank':\n",
    "            Q_1 = (1 / df[df.classes == 1].ranks).sum() / (1 / df.ranks).sum()\n",
    "            return Q_1\n",
    "        # по дистанции    \n",
    "        elif self.weight == 'distance':\n",
    "            D_1 = (1 / df[df.classes == 1].distances).sum() / (1 / df.distances).sum()\n",
    "            return D_1   \n",
    "        else:\n",
    "            raise ValueError('Invalid weight. Supported weights: uniform, rank, distance')\n",
    "\n",
    "    # Предсказание вероятности соотнесения всех наблюдений к классу 1\n",
    "    def predict_proba(self, X: pd.DataFrame) -> np.array:\n",
    "        X = X.to_numpy()\n",
    "        return np.array([self._make_prediction_proba(x) for x in X])"
   ]
  },
  {
   "cell_type": "markdown",
   "id": "00a44296",
   "metadata": {},
   "source": [
    "**Регрессия**"
   ]
  },
  {
   "cell_type": "code",
   "execution_count": null,
   "id": "3351635f",
   "metadata": {},
   "outputs": [],
   "source": [
    "class MyKNNReg():\n",
    "    \n",
    "    def __init__(self,\n",
    "                 k: int = 3,\n",
    "                 metric: str = 'euclidean',\n",
    "                 weight: str = 'uniform'):\n",
    "    \n",
    "        self.k = k\n",
    "        self.metric = metric # euclidean, chebyshev, manhattan, cosine \n",
    "        self.weight = weight # uniform, rank, distance\n",
    "        \n",
    "        self.X_train = None\n",
    "        self.y_train = None\n",
    "        self.train_size = None\n",
    "        \n",
    "    \n",
    "    def __repr__(self):\n",
    "        params = [f'{key}={value}' for key, value in self.__dict__.items()]\n",
    "        return 'MyKNNReg class: ' + ', '.join(params)\n",
    "        \n",
    "    def __str__(self):\n",
    "        return self.__repr__()\n",
    "    \n",
    "    # Обучение\n",
    "    def fit(self, X:pd.DataFrame, y:pd.Series) -> None:\n",
    "        self.X_train = X.copy()\n",
    "        self.y_train = y.copy()\n",
    "        self.train_size = tuple(X.shape)  \n",
    "        \n",
    "    # Рассчет Евклидова расстояния\n",
    "    def _euclidean(self, X_i: np.array) -> np.array:\n",
    "        return np.sqrt(np.sum((self.X_train - X_i) ** 2, axis=1))\n",
    "    \n",
    "    # Рассчет Манхэттенского расстояния\n",
    "    def _manhattan(self, X_i: np.array) -> np.array:\n",
    "        return np.sum(np.abs(self.X_train - X_i), axis=1)\n",
    "    \n",
    "    # Рассчет расстояния Чебышева\n",
    "    def _chebyshev(self, X_i: np.array) -> np.array:\n",
    "        return np.max(np.abs(self.X_train - X_i), axis = 1)\n",
    "    \n",
    "    # Рассчет косинусного расстояния\n",
    "    def _cosine(self, X_i: np.array) -> np.array:\n",
    "        return 1 - np.sum(self.X_train * X_i, axis = 1) / np.sqrt(np.sum(X_i**2) *  np.sum(self.X_train**2, axis = 1))\n",
    "        \n",
    "    # Рассчет предсказанного значения для одного наблюдения\n",
    "    def _make_prediction(self, X_i: np.array) -> float:\n",
    "        distances = getattr(self, '_' + self.metric)(X_i)\n",
    "        k_nearest_distances = np.sort(distances)[:self.k]\n",
    "        k_nearest_indexes = np.argsort(distances)[:self.k]\n",
    "        k_nearest_targets = y[k_nearest_indexes].ravel()\n",
    "        \n",
    "        df = pd.DataFrame({'ranks': np.arange(1, self.k+1), \n",
    "                           'targets': k_nearest_targets, \n",
    "                           'distances': k_nearest_distances})\n",
    "        \n",
    "        # Взвешенный kNN\n",
    "        # веса соседей не учитываются\n",
    "        if self.weight == 'uniform':\n",
    "            return k_nearest_targets.mean()\n",
    "        # по порядковому номеру\n",
    "        elif self.weight == 'rank':\n",
    "            df['weights'] = (1 / df.ranks) / (1 / df.ranks).sum()\n",
    "            return (df.weights * df.targets).sum()\n",
    "        # по дистанции    \n",
    "        elif self.weight == 'distance':\n",
    "            df['weights'] = (1 / df.distances) / (1 / df.distances).sum()\n",
    "            return (df.weights * df.targets).sum()    \n",
    "        else:\n",
    "            raise ValueError('Invalid weight. Supported weights: uniform, rank, distance')\n",
    "    \n",
    "    # Получить вектор предсказаний\n",
    "    def predict(self, X: pd.DataFrame) -> np.array:\n",
    "        X = X.to_numpy()\n",
    "        return np.array([self._make_prediction(x) for x in X])"
   ]
  }
 ],
 "metadata": {
  "kernelspec": {
   "display_name": "Python 3 (ipykernel)",
   "language": "python",
   "name": "python3"
  },
  "language_info": {
   "codemirror_mode": {
    "name": "ipython",
    "version": 3
   },
   "file_extension": ".py",
   "mimetype": "text/x-python",
   "name": "python",
   "nbconvert_exporter": "python",
   "pygments_lexer": "ipython3",
   "version": "3.10.9"
  }
 },
 "nbformat": 4,
 "nbformat_minor": 5
}
