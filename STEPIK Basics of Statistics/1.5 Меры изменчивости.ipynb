{
 "cells": [
  {
   "cell_type": "markdown",
   "id": "e2cbfd88",
   "metadata": {},
   "source": [
    "## 1.5 Меры изменчивости"
   ]
  },
  {
   "attachments": {
    "image-2.png": {
     "image/png": "[encoded data removed]"
    }
   },
   "cell_type": "markdown",
   "id": "9aaeb2d6",
   "metadata": {},
   "source": [
    "### Определения:\n",
    "\n",
    "**Размах** - разность между максимальным и минимальным значениям выборки. Крайне чувствителен к выбросам.  \n",
    "\n",
    "**Дисперсия** - средний квадрат отклонений индивидуальных значений признака от их средней величины. При расчете дисперсии для выборки от знаменателя формулы вычитается 1.\n",
    "![image-2.png](attachment:image-2.png)\n",
    "\n",
    "**Среднеквадратическое отклонение** - корень из дисперсии (реальное среднее отклонение от среднего по выборке)"
   ]
  },
  {
   "cell_type": "markdown",
   "id": "41b9e615",
   "metadata": {},
   "source": [
    "### Свойства  стандартного отклонения и дисперсии\n",
    "1) Если к каждому наблюдению выборки прибавить число **c**, то ни дисперсия, ни стандартное отклонение не изменятся;  \n",
    "2) Если каждое число выборки умножить на число **с**, то стандартное отклонение изменится в **c** раз, а дисперсия в **c^2** раз."
   ]
  },
  {
   "cell_type": "code",
   "execution_count": 4,
   "id": "926a187b",
   "metadata": {},
   "outputs": [
    {
     "name": "stdout",
     "output_type": "stream",
     "text": [
      "Range = 8\n",
      "D = 10.0\n",
      "std = 3.1622776601683795\n"
     ]
    }
   ],
   "source": [
    "'''Самостоятельный расчет размаха, дисперсии и стандартного отклонения'''\n",
    "def get_range(num_list):\n",
    "    min_num = min(num_list)\n",
    "    max_num = max(num_list)\n",
    "\n",
    "    nums_range = max_num - min_num\n",
    "    return nums_range\n",
    "\n",
    "def get_dispersion(num_list, ddof=0):         # где ddof - степень свободы\n",
    "    mean = sum(num_list) / len(num_list)\n",
    "    m_deviation = 0\n",
    "    \n",
    "    for i in num_list:\n",
    "        m_deviation += (i - mean)**2\n",
    "    \n",
    "    D = m_deviation / (len(num_list) - ddof)  \n",
    "    return D\n",
    "\n",
    "def get_standart_deviation(num_list, ddof=0): # где ddof - степень свободы\n",
    "    mean = sum(num_list) / len(num_list)\n",
    "    m_deviation = 0\n",
    "    \n",
    "    for i in num_list:\n",
    "        m_deviation += (i - mean)**2\n",
    "    \n",
    "    D = m_deviation / (len(num_list) - ddof)\n",
    "    std = D**0.5   \n",
    "    return std\n",
    "\n",
    "nums = [int(i) for i in '1 5 2 7 1 9 3 8 5 9'.split()]\n",
    "\n",
    "print('Range =', get_range(nums))\n",
    "print('D =', get_dispersion(nums, 1))\n",
    "print('std =', get_standart_deviation(nums, 1))"
   ]
  },
  {
   "cell_type": "code",
   "execution_count": 2,
   "id": "16c3f4a4",
   "metadata": {},
   "outputs": [
    {
     "name": "stdout",
     "output_type": "stream",
     "text": [
      "D = 10.0\n",
      "std = 3.1622776601683795\n"
     ]
    }
   ],
   "source": [
    "'''Расчет дисперсии и стандартного отклонения с помощью numpy'''\n",
    "import numpy as np\n",
    "\n",
    "nums = [int(i) for i in '1 5 2 7 1 9 3 8 5 9'.split()]\n",
    "\n",
    "print('D =', np.var(nums, ddof=1))\n",
    "print('std =', np.std(nums, ddof=1)) #Учитываем степень свободы - ddof"
   ]
  },
  {
   "cell_type": "code",
   "execution_count": 11,
   "id": "5e8cbf01",
   "metadata": {},
   "outputs": [
    {
     "name": "stdout",
     "output_type": "stream",
     "text": [
      "Дисперсия\n",
      " Выборка 1    10.0\n",
      "Выборка 2    10.0\n",
      "dtype: float64\n",
      "Cтандартное отклонение \n",
      " Выборка 1    3.162278\n",
      "Выборка 2    3.162278\n",
      "dtype: float64\n"
     ]
    }
   ],
   "source": [
    "'''Расчет дисперсии и стандартного отклонения с помощью pandas'''\n",
    "import pandas as pd\n",
    "\n",
    "sample_1 = [1, 3, 5, 6, 6, 7, 9, 11]\n",
    "sample_2 = [5, 7, 9, 10, 10, 11, 13, 15]\n",
    "\n",
    "df = pd.DataFrame({\n",
    "    \"Выборка 1\": sample_1,\n",
    "    \"Выборка 2\": sample_2\n",
    "})\n",
    "\n",
    "print(\"Дисперсия\\n\", df.var())\n",
    "print(\"Cтандартное отклонение \\n\", df.std(ddof=1))"
   ]
  }
 ],
 "metadata": {
  "kernelspec": {
   "display_name": "Python 3 (ipykernel)",
   "language": "python",
   "name": "python3"
  },
  "language_info": {
   "codemirror_mode": {
    "name": "ipython",
    "version": 3
   },
   "file_extension": ".py",
   "mimetype": "text/x-python",
   "name": "python",
   "nbconvert_exporter": "python",
   "pygments_lexer": "ipython3",
   "version": "3.10.9"
  }
 },
 "nbformat": 4,
 "nbformat_minor": 5
}
