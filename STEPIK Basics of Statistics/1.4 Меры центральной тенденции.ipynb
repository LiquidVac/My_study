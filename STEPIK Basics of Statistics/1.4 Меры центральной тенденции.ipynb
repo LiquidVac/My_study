{
 "cells": [
  {
   "cell_type": "markdown",
   "id": "f8071f64",
   "metadata": {},
   "source": [
    "## 1.4 Меры центральной тенденции"
   ]
  },
  {
   "cell_type": "markdown",
   "id": "dc199fee",
   "metadata": {},
   "source": [
    "### Основные определения:\n",
    "\n",
    "Типы описательной статистики:\n",
    "1) Меры центральной тенденции - позволяет определить, насколько *высокие* значения принимает распределение;\n",
    "2) Меры изменчивости - вариативность распределения.\n",
    "\n",
    "**Мода** - это значение признака, которое встречается максимально часто. В выборке может быть несколько мод.  \n",
    "\n",
    "**Медиана** - это значение признака, которое делит упорядочное множество пополам. Если множество содержит чётное количество элементов, то берётся среднее из двух серединных элементов упорядочного множества.\n",
    "\n",
    "**Среднее значение** - сумма всех значений измеренного признака делённое на количество измеренных значений."
   ]
  },
  {
   "cell_type": "markdown",
   "id": "debf99d9",
   "metadata": {},
   "source": [
    "### Свойства среднего значения\n",
    "1) Если к каждому значению\n",
    "выборки прибавить число **c**, то среднее значение увеличится на это число;\n",
    "2) Если каждое значению выборки умножить на число **c**, то среднее значение увеличится в **с** раз;\n",
    "3) Если для каждого значения выборки рассчитать отклонение от среднего арифметического, то сумма таких отклонений будет = 0."
   ]
  },
  {
   "attachments": {
    "image.png": {
     "image/png": "[encoded data removed]"
    }
   },
   "cell_type": "markdown",
   "id": "b992bcde",
   "metadata": {},
   "source": [
    "### Примеры:\n",
    "![image.png](attachment:image.png)\n",
    "*Красная линия* - Мода  \n",
    "*Зеленая линия* - Медиана  \n",
    "*Синяя линия* - Среднее значение"
   ]
  },
  {
   "cell_type": "code",
   "execution_count": 2,
   "id": "4945282b",
   "metadata": {},
   "outputs": [
    {
     "name": "stdout",
     "output_type": "stream",
     "text": [
      "Mode = (172, 4)\n",
      "Median = 170.5\n",
      "Mean = 170.4\n"
     ]
    }
   ],
   "source": [
    "'''Самостоятельный расчет моды, медианы и среднего'''\n",
    "nums = [int(i) for i in '185 175 170 169 171 175 157 172 170 172 167 173 168\\\n",
    "        167 166 167 169 172 177 178 165 161 179 159 164 178 172 170 173 171'.split()]\n",
    "\n",
    "def get_mode(num_list):\n",
    "    counts_of_num = {}\n",
    "    for i in num_list:\n",
    "        if i in counts_of_num:\n",
    "            counts_of_num[i] += 1\n",
    "        else:\n",
    "            counts_of_num[i] = 1\n",
    "            \n",
    "    count = max(counts_of_num.values())         \n",
    "    mode = max(counts_of_num, key=lambda key: counts_of_num[key])\n",
    "    \n",
    "    return mode, count\n",
    "           \n",
    "\n",
    "def get_median(num_list):\n",
    "    median = 0\n",
    "    \n",
    "    num_list = sorted(num_list)\n",
    "    \n",
    "    if (len(num_list) / 2) % 1 == 0:\n",
    "        median += (num_list[len(num_list) // 2 - 1] + num_list[len(num_list) // 2]) / 2\n",
    "    else:\n",
    "        median += (num_list[len(num_list) // 2])\n",
    "        \n",
    "    return median\n",
    "\n",
    "\n",
    "def get_mean(num_list):\n",
    "    mean = sum(num_list) / len(num_list)\n",
    "    \n",
    "    return mean\n",
    "\n",
    "\n",
    "print('Mode =', get_mode(nums)) \n",
    "print('Median =', get_median(nums)) \n",
    "print('Mean =', get_mean(nums))"
   ]
  },
  {
   "cell_type": "code",
   "execution_count": 4,
   "id": "c00659cf",
   "metadata": {},
   "outputs": [
    {
     "name": "stdout",
     "output_type": "stream",
     "text": [
      "mode = ModeResult(mode=172, count=4)\n",
      "median = 170.5\n",
      "mean = 170.4\n"
     ]
    }
   ],
   "source": [
    "'''Расчёт моды, медианы и среднего с помощью библиотек numpy и scipy'''\n",
    "import numpy as np\n",
    "from scipy import stats\n",
    "sample = np.array([185, 175, 170, 169, 171, 175, 157, 172, 170, 172, 167, 173, 168, 167, 166,\n",
    "              167, 169, 172, 177, 178, 165, 161, 179, 159, 164, 178, 172, 170, 173, 171])\n",
    "\n",
    "print('mode =', stats.mode(sample, keepdims=False))\n",
    "print('median =', np.median(sample))\n",
    "print('mean =', np.mean(sample))"
   ]
  },
  {
   "cell_type": "code",
   "execution_count": 5,
   "id": "3a67eb6d",
   "metadata": {},
   "outputs": [
    {
     "name": "stdout",
     "output_type": "stream",
     "text": [
      "mode = 0    172\n",
      "dtype: int64\n",
      "median = 170.5\n",
      "mean = 170.4\n"
     ]
    }
   ],
   "source": [
    "'''Расчёт моды, медианы и среднего с помощью библиотеки pandas'''\n",
    "import pandas as pd\n",
    "sample = pd.Series([185, 175, 170, 169, 171, 175, 157, 172, 170, 172, 167, 173, 168, 167, 166,\n",
    "              167, 169, 172, 177, 178, 165, 161, 179, 159, 164, 178, 172, 170, 173, 171])\n",
    "\n",
    "print('mode =', sample.mode())\n",
    "print('median =', sample.median())\n",
    "print('mean =', sample.mean())"
   ]
  }
 ],
 "metadata": {
  "kernelspec": {
   "display_name": "Python 3 (ipykernel)",
   "language": "python",
   "name": "python3"
  },
  "language_info": {
   "codemirror_mode": {
    "name": "ipython",
    "version": 3
   },
   "file_extension": ".py",
   "mimetype": "text/x-python",
   "name": "python",
   "nbconvert_exporter": "python",
   "pygments_lexer": "ipython3",
   "version": "3.10.9"
  }
 },
 "nbformat": 4,
 "nbformat_minor": 5
}
